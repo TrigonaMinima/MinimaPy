{
 "cells": [
  {
   "cell_type": "code",
   "execution_count": 39,
   "metadata": {
    "collapsed": false
   },
   "outputs": [],
   "source": [
    "def bins(arr, ele, index):\n",
    "\n",
    "    \n",
    "    \n",
    "    \n",
    "#     print(arr, l, ele, arr[l])\n",
    "    if not len(arr):\n",
    "        return -1\n",
    "    else:\n",
    "        l = len(arr)//2\n",
    "        if ele == arr[l]:\n",
    "            return index\n",
    "        else:\n",
    "            if arr[l] > ele:\n",
    "                index -= l\n",
    "                return bins(arr[:l], ele, index)\n",
    "            else: #arr[l] < ele:\n",
    "                index += l\n",
    "                return bins(arr[l+1:], ele, index)\n",
    "#         else:\n",
    "#             return -1\n",
    " \n",
    "def find(arr):\n",
    "    temp = ''\n",
    "    for i in arr:\n",
    "        temp += str(bins(num, i, 0)) + ' '\n",
    "    return temp"
   ]
  },
  {
   "cell_type": "code",
   "execution_count": 40,
   "metadata": {
    "collapsed": false,
    "scrolled": false
   },
   "outputs": [
    {
     "name": "stdout",
     "output_type": "stream",
     "text": [
      "1 -3 -1 -1 1 -2 \n"
     ]
    }
   ],
   "source": [
    "num = \"10 20 30 40 50\"\n",
    "num = [int(i) for i in num.split()]\n",
    "ary = \"40 10 35 15 40 20\"\n",
    "ary = [int(i) for i in ary.split()]\n",
    "print(find(ary))"
   ]
  },
  {
   "cell_type": "code",
   "execution_count": 2,
   "metadata": {
    "collapsed": false
   },
   "outputs": [
    {
     "data": {
      "text/plain": [
       "'3.0.0-b1'"
      ]
     },
     "execution_count": 2,
     "metadata": {},
     "output_type": "execute_result"
    }
   ],
   "source": [
    "import IPython\n",
    "IPython.__version__"
   ]
  },
  {
   "cell_type": "code",
   "execution_count": 46,
   "metadata": {
    "collapsed": true
   },
   "outputs": [],
   "source": []
  },
  {
   "cell_type": "code",
   "execution_count": null,
   "metadata": {
    "collapsed": true
   },
   "outputs": [],
   "source": []
  }
 ],
 "metadata": {
  "language_info": {
   "codemirror_mode": {
    "name": "ipython",
    "version": 2
   },
   "file_extension": ".py",
   "mimetype": "text/x-python",
   "name": "python",
   "nbconvert_exporter": "python",
   "pygments_lexer": "ipython2",
   "version": "2.7.3"
  }
 },
 "nbformat": 4,
 "nbformat_minor": 0
}
